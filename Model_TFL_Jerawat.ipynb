{
  "nbformat": 4,
  "nbformat_minor": 0,
  "metadata": {
    "colab": {
      "provenance": [],
      "gpuType": "T4"
    },
    "kernelspec": {
      "name": "python3",
      "display_name": "Python 3"
    },
    "language_info": {
      "name": "python"
    },
    "accelerator": "GPU"
  },
  "cells": [
    {
      "cell_type": "code",
      "execution_count": 2,
      "metadata": {
        "id": "fR5RuRfgSsqS"
      },
      "outputs": [],
      "source": [
        "import os\n",
        "import tensorflow as tf\n",
        "from tensorflow.keras.preprocessing.image import ImageDataGenerator\n",
        "import pandas as pd\n",
        "from tensorflow.keras.models import Sequential\n",
        "from tensorflow.keras.layers import Dense, Flatten, Dropout, GlobalAveragePooling2D\n",
        "from tensorflow.keras.applications import VGG16\n",
        "from google.colab import files\n",
        "import zipfile\n",
        "import io\n",
        "import numpy as np\n",
        "import matplotlib.pyplot as plt\n",
        "from PIL import Image\n",
        "from tensorflow.keras.callbacks import EarlyStopping"
      ]
    },
    {
      "cell_type": "code",
      "source": [
        "# Mengunggah file zip\n",
        "uploaded = files.upload()\n",
        "\n",
        "# Mendapatkan nama file zip yang diunggah\n",
        "zip_filename = next(iter(uploaded))\n",
        "\n",
        "# Membaca file zip\n",
        "with zipfile.ZipFile(io.BytesIO(uploaded[zip_filename]), 'r') as zip_ref:\n",
        "    # Ekstrak semua file dalam zip\n",
        "    zip_ref.extractall()"
      ],
      "metadata": {
        "colab": {
          "base_uri": "https://localhost:8080/",
          "height": 73
        },
        "id": "SEdP_fVUStxv",
        "outputId": "54631442-9ec5-423e-e718-085855448342"
      },
      "execution_count": 3,
      "outputs": [
        {
          "output_type": "display_data",
          "data": {
            "text/plain": [
              "<IPython.core.display.HTML object>"
            ],
            "text/html": [
              "\n",
              "     <input type=\"file\" id=\"files-ffa87204-2c9b-4be6-b4d5-ac88d1a21951\" name=\"files[]\" multiple disabled\n",
              "        style=\"border:none\" />\n",
              "     <output id=\"result-ffa87204-2c9b-4be6-b4d5-ac88d1a21951\">\n",
              "      Upload widget is only available when the cell has been executed in the\n",
              "      current browser session. Please rerun this cell to enable.\n",
              "      </output>\n",
              "      <script>// Copyright 2017 Google LLC\n",
              "//\n",
              "// Licensed under the Apache License, Version 2.0 (the \"License\");\n",
              "// you may not use this file except in compliance with the License.\n",
              "// You may obtain a copy of the License at\n",
              "//\n",
              "//      http://www.apache.org/licenses/LICENSE-2.0\n",
              "//\n",
              "// Unless required by applicable law or agreed to in writing, software\n",
              "// distributed under the License is distributed on an \"AS IS\" BASIS,\n",
              "// WITHOUT WARRANTIES OR CONDITIONS OF ANY KIND, either express or implied.\n",
              "// See the License for the specific language governing permissions and\n",
              "// limitations under the License.\n",
              "\n",
              "/**\n",
              " * @fileoverview Helpers for google.colab Python module.\n",
              " */\n",
              "(function(scope) {\n",
              "function span(text, styleAttributes = {}) {\n",
              "  const element = document.createElement('span');\n",
              "  element.textContent = text;\n",
              "  for (const key of Object.keys(styleAttributes)) {\n",
              "    element.style[key] = styleAttributes[key];\n",
              "  }\n",
              "  return element;\n",
              "}\n",
              "\n",
              "// Max number of bytes which will be uploaded at a time.\n",
              "const MAX_PAYLOAD_SIZE = 100 * 1024;\n",
              "\n",
              "function _uploadFiles(inputId, outputId) {\n",
              "  const steps = uploadFilesStep(inputId, outputId);\n",
              "  const outputElement = document.getElementById(outputId);\n",
              "  // Cache steps on the outputElement to make it available for the next call\n",
              "  // to uploadFilesContinue from Python.\n",
              "  outputElement.steps = steps;\n",
              "\n",
              "  return _uploadFilesContinue(outputId);\n",
              "}\n",
              "\n",
              "// This is roughly an async generator (not supported in the browser yet),\n",
              "// where there are multiple asynchronous steps and the Python side is going\n",
              "// to poll for completion of each step.\n",
              "// This uses a Promise to block the python side on completion of each step,\n",
              "// then passes the result of the previous step as the input to the next step.\n",
              "function _uploadFilesContinue(outputId) {\n",
              "  const outputElement = document.getElementById(outputId);\n",
              "  const steps = outputElement.steps;\n",
              "\n",
              "  const next = steps.next(outputElement.lastPromiseValue);\n",
              "  return Promise.resolve(next.value.promise).then((value) => {\n",
              "    // Cache the last promise value to make it available to the next\n",
              "    // step of the generator.\n",
              "    outputElement.lastPromiseValue = value;\n",
              "    return next.value.response;\n",
              "  });\n",
              "}\n",
              "\n",
              "/**\n",
              " * Generator function which is called between each async step of the upload\n",
              " * process.\n",
              " * @param {string} inputId Element ID of the input file picker element.\n",
              " * @param {string} outputId Element ID of the output display.\n",
              " * @return {!Iterable<!Object>} Iterable of next steps.\n",
              " */\n",
              "function* uploadFilesStep(inputId, outputId) {\n",
              "  const inputElement = document.getElementById(inputId);\n",
              "  inputElement.disabled = false;\n",
              "\n",
              "  const outputElement = document.getElementById(outputId);\n",
              "  outputElement.innerHTML = '';\n",
              "\n",
              "  const pickedPromise = new Promise((resolve) => {\n",
              "    inputElement.addEventListener('change', (e) => {\n",
              "      resolve(e.target.files);\n",
              "    });\n",
              "  });\n",
              "\n",
              "  const cancel = document.createElement('button');\n",
              "  inputElement.parentElement.appendChild(cancel);\n",
              "  cancel.textContent = 'Cancel upload';\n",
              "  const cancelPromise = new Promise((resolve) => {\n",
              "    cancel.onclick = () => {\n",
              "      resolve(null);\n",
              "    };\n",
              "  });\n",
              "\n",
              "  // Wait for the user to pick the files.\n",
              "  const files = yield {\n",
              "    promise: Promise.race([pickedPromise, cancelPromise]),\n",
              "    response: {\n",
              "      action: 'starting',\n",
              "    }\n",
              "  };\n",
              "\n",
              "  cancel.remove();\n",
              "\n",
              "  // Disable the input element since further picks are not allowed.\n",
              "  inputElement.disabled = true;\n",
              "\n",
              "  if (!files) {\n",
              "    return {\n",
              "      response: {\n",
              "        action: 'complete',\n",
              "      }\n",
              "    };\n",
              "  }\n",
              "\n",
              "  for (const file of files) {\n",
              "    const li = document.createElement('li');\n",
              "    li.append(span(file.name, {fontWeight: 'bold'}));\n",
              "    li.append(span(\n",
              "        `(${file.type || 'n/a'}) - ${file.size} bytes, ` +\n",
              "        `last modified: ${\n",
              "            file.lastModifiedDate ? file.lastModifiedDate.toLocaleDateString() :\n",
              "                                    'n/a'} - `));\n",
              "    const percent = span('0% done');\n",
              "    li.appendChild(percent);\n",
              "\n",
              "    outputElement.appendChild(li);\n",
              "\n",
              "    const fileDataPromise = new Promise((resolve) => {\n",
              "      const reader = new FileReader();\n",
              "      reader.onload = (e) => {\n",
              "        resolve(e.target.result);\n",
              "      };\n",
              "      reader.readAsArrayBuffer(file);\n",
              "    });\n",
              "    // Wait for the data to be ready.\n",
              "    let fileData = yield {\n",
              "      promise: fileDataPromise,\n",
              "      response: {\n",
              "        action: 'continue',\n",
              "      }\n",
              "    };\n",
              "\n",
              "    // Use a chunked sending to avoid message size limits. See b/62115660.\n",
              "    let position = 0;\n",
              "    do {\n",
              "      const length = Math.min(fileData.byteLength - position, MAX_PAYLOAD_SIZE);\n",
              "      const chunk = new Uint8Array(fileData, position, length);\n",
              "      position += length;\n",
              "\n",
              "      const base64 = btoa(String.fromCharCode.apply(null, chunk));\n",
              "      yield {\n",
              "        response: {\n",
              "          action: 'append',\n",
              "          file: file.name,\n",
              "          data: base64,\n",
              "        },\n",
              "      };\n",
              "\n",
              "      let percentDone = fileData.byteLength === 0 ?\n",
              "          100 :\n",
              "          Math.round((position / fileData.byteLength) * 100);\n",
              "      percent.textContent = `${percentDone}% done`;\n",
              "\n",
              "    } while (position < fileData.byteLength);\n",
              "  }\n",
              "\n",
              "  // All done.\n",
              "  yield {\n",
              "    response: {\n",
              "      action: 'complete',\n",
              "    }\n",
              "  };\n",
              "}\n",
              "\n",
              "scope.google = scope.google || {};\n",
              "scope.google.colab = scope.google.colab || {};\n",
              "scope.google.colab._files = {\n",
              "  _uploadFiles,\n",
              "  _uploadFilesContinue,\n",
              "};\n",
              "})(self);\n",
              "</script> "
            ]
          },
          "metadata": {}
        },
        {
          "output_type": "stream",
          "name": "stdout",
          "text": [
            "Saving jerawat_dataset.zip to jerawat_dataset.zip\n"
          ]
        }
      ]
    },
    {
      "cell_type": "code",
      "source": [
        "dataset_path = 'jerawat_dataset'"
      ],
      "metadata": {
        "id": "bm4DbIQcS3v3"
      },
      "execution_count": 5,
      "outputs": []
    },
    {
      "cell_type": "code",
      "source": [
        "labels_jerawat= ['Blackhead', 'Kistik', 'Nodula', 'Papula', 'Pustula', 'Whitehead']\n",
        "label_dict = {label: index for index, label in enumerate(labels_jerawat)}"
      ],
      "metadata": {
        "id": "jkXEPTXHS9zf"
      },
      "execution_count": 6,
      "outputs": []
    },
    {
      "cell_type": "code",
      "source": [
        "# Solusi\n",
        "datagen = ImageDataGenerator(\n",
        "    rescale=1.0/255.0,\n",
        "    validation_split=0.2\n",
        ")"
      ],
      "metadata": {
        "id": "70HFd0eJS_V_"
      },
      "execution_count": 76,
      "outputs": []
    },
    {
      "cell_type": "code",
      "source": [
        "train_generator = datagen.flow_from_directory(\n",
        "    dataset_path,\n",
        "    target_size=(64, 64),  # Sesuaikan ukuran dengan input model pre-trained\n",
        "    color_mode='rgb',  # Model pre-trained membutuhkan gambar RGB\n",
        "    batch_size=32,\n",
        "    class_mode='categorical',\n",
        "    subset='training'\n",
        ")\n",
        "\n",
        "validation_generator = datagen.flow_from_directory(\n",
        "    dataset_path,\n",
        "    target_size=(64, 64),\n",
        "    color_mode='rgb',\n",
        "    batch_size=32,\n",
        "    class_mode='categorical',\n",
        "    subset='validation'\n",
        ")\n"
      ],
      "metadata": {
        "colab": {
          "base_uri": "https://localhost:8080/"
        },
        "id": "FKT8r7k2TAwv",
        "outputId": "4176ff8e-4b91-486f-8242-49623021d079"
      },
      "execution_count": 77,
      "outputs": [
        {
          "output_type": "stream",
          "name": "stdout",
          "text": [
            "Found 89 images belonging to 6 classes.\n",
            "Found 20 images belonging to 6 classes.\n"
          ]
        }
      ]
    },
    {
      "cell_type": "code",
      "source": [
        "# Load the pre-trained VGG16 model\n",
        "base_model = VGG16(weights='imagenet', include_top=False, input_shape=(64, 64, 3))"
      ],
      "metadata": {
        "id": "gQ0vIutlTEnH"
      },
      "execution_count": 78,
      "outputs": []
    },
    {
      "cell_type": "code",
      "source": [
        "# Solusi\n",
        "model = Sequential([\n",
        "    base_model,\n",
        "    GlobalAveragePooling2D(),\n",
        "    Dense(256, activation='relu'),\n",
        "    Dense(128, activation='relu'),\n",
        "    Dropout(0.5),\n",
        "    Dense(train_generator.num_classes, activation='softmax')\n",
        "])"
      ],
      "metadata": {
        "id": "QFPZy898TGwv"
      },
      "execution_count": 86,
      "outputs": []
    },
    {
      "cell_type": "code",
      "source": [
        "# Freeze the base model\n",
        "base_model.trainable = False\n",
        "\n",
        "# Compile the model\n",
        "model.compile(optimizer='adam', loss='categorical_crossentropy', metrics=['accuracy'])\n",
        "\n",
        "model.summary()"
      ],
      "metadata": {
        "colab": {
          "base_uri": "https://localhost:8080/"
        },
        "id": "tFXhW__3TSsH",
        "outputId": "a201f711-ae3a-43f5-f979-6225f657da52"
      },
      "execution_count": 87,
      "outputs": [
        {
          "output_type": "stream",
          "name": "stdout",
          "text": [
            "Model: \"sequential_10\"\n",
            "_________________________________________________________________\n",
            " Layer (type)                Output Shape              Param #   \n",
            "=================================================================\n",
            " vgg16 (Functional)          (None, 2, 2, 512)         14714688  \n",
            "                                                                 \n",
            " global_average_pooling2d_1  (None, 512)               0         \n",
            " 0 (GlobalAveragePooling2D)                                      \n",
            "                                                                 \n",
            " dense_21 (Dense)            (None, 256)               131328    \n",
            "                                                                 \n",
            " dense_22 (Dense)            (None, 128)               32896     \n",
            "                                                                 \n",
            " dropout_12 (Dropout)        (None, 128)               0         \n",
            "                                                                 \n",
            " dense_23 (Dense)            (None, 6)                 774       \n",
            "                                                                 \n",
            "=================================================================\n",
            "Total params: 14879686 (56.76 MB)\n",
            "Trainable params: 164998 (644.52 KB)\n",
            "Non-trainable params: 14714688 (56.13 MB)\n",
            "_________________________________________________________________\n"
          ]
        }
      ]
    },
    {
      "cell_type": "code",
      "source": [
        "early_stopping = EarlyStopping(monitor='val_loss', patience=10, restore_best_weights=True)"
      ],
      "metadata": {
        "id": "h2KK6SRrTJr3"
      },
      "execution_count": 73,
      "outputs": []
    },
    {
      "cell_type": "code",
      "source": [
        "class myCallback(tf.keras.callbacks.Callback):\n",
        "    def on_epoch_end(self, epoch, logs={}):\n",
        "        if(logs.get('accuracy') is not None and logs.get('val_accuracy') >= 0.72):\n",
        "            print(\"\\nAkurasi telah mencapai 88%!\")\n",
        "            self.model.stop_training = True"
      ],
      "metadata": {
        "id": "O1G7EFB7ZhKf"
      },
      "execution_count": 85,
      "outputs": []
    },
    {
      "cell_type": "code",
      "source": [
        "Callback = myCallback()\n",
        "history = model.fit(\n",
        "    train_generator,\n",
        "    validation_data=validation_generator,\n",
        "    epochs=100,\n",
        "    callbacks=Callback\n",
        ")"
      ],
      "metadata": {
        "colab": {
          "base_uri": "https://localhost:8080/"
        },
        "id": "tyZkFZBQTL4P",
        "outputId": "a29302dc-d730-408d-a3d2-743b3a231e95"
      },
      "execution_count": 88,
      "outputs": [
        {
          "output_type": "stream",
          "name": "stdout",
          "text": [
            "Epoch 1/100\n",
            "3/3 [==============================] - 2s 222ms/step - loss: 1.9784 - accuracy: 0.1798 - val_loss: 1.7109 - val_accuracy: 0.3000\n",
            "Epoch 2/100\n",
            "3/3 [==============================] - 1s 215ms/step - loss: 1.7619 - accuracy: 0.3034 - val_loss: 1.7013 - val_accuracy: 0.3500\n",
            "Epoch 3/100\n",
            "3/3 [==============================] - 1s 176ms/step - loss: 1.7308 - accuracy: 0.2472 - val_loss: 1.6992 - val_accuracy: 0.2500\n",
            "Epoch 4/100\n",
            "3/3 [==============================] - 1s 194ms/step - loss: 1.6546 - accuracy: 0.2697 - val_loss: 1.6943 - val_accuracy: 0.2500\n",
            "Epoch 5/100\n",
            "3/3 [==============================] - 1s 196ms/step - loss: 1.5359 - accuracy: 0.4382 - val_loss: 1.6667 - val_accuracy: 0.2500\n",
            "Epoch 6/100\n",
            "3/3 [==============================] - 1s 198ms/step - loss: 1.5278 - accuracy: 0.3596 - val_loss: 1.6448 - val_accuracy: 0.2500\n",
            "Epoch 7/100\n",
            "3/3 [==============================] - 1s 217ms/step - loss: 1.4882 - accuracy: 0.4607 - val_loss: 1.6115 - val_accuracy: 0.2500\n",
            "Epoch 8/100\n",
            "3/3 [==============================] - 1s 194ms/step - loss: 1.4368 - accuracy: 0.5056 - val_loss: 1.5984 - val_accuracy: 0.3000\n",
            "Epoch 9/100\n",
            "3/3 [==============================] - 1s 200ms/step - loss: 1.3787 - accuracy: 0.4831 - val_loss: 1.5790 - val_accuracy: 0.2500\n",
            "Epoch 10/100\n",
            "3/3 [==============================] - 1s 183ms/step - loss: 1.3606 - accuracy: 0.4719 - val_loss: 1.5523 - val_accuracy: 0.3500\n",
            "Epoch 11/100\n",
            "3/3 [==============================] - 1s 280ms/step - loss: 1.3168 - accuracy: 0.5281 - val_loss: 1.5269 - val_accuracy: 0.2500\n",
            "Epoch 12/100\n",
            "3/3 [==============================] - 1s 304ms/step - loss: 1.2754 - accuracy: 0.5169 - val_loss: 1.4991 - val_accuracy: 0.4000\n",
            "Epoch 13/100\n",
            "3/3 [==============================] - 1s 141ms/step - loss: 1.2338 - accuracy: 0.5056 - val_loss: 1.4822 - val_accuracy: 0.3000\n",
            "Epoch 14/100\n",
            "3/3 [==============================] - 1s 159ms/step - loss: 1.1319 - accuracy: 0.5955 - val_loss: 1.4718 - val_accuracy: 0.4500\n",
            "Epoch 15/100\n",
            "3/3 [==============================] - 1s 202ms/step - loss: 1.1190 - accuracy: 0.6067 - val_loss: 1.4540 - val_accuracy: 0.4000\n",
            "Epoch 16/100\n",
            "3/3 [==============================] - 1s 163ms/step - loss: 1.1571 - accuracy: 0.5618 - val_loss: 1.4285 - val_accuracy: 0.4000\n",
            "Epoch 17/100\n",
            "3/3 [==============================] - 1s 165ms/step - loss: 1.1433 - accuracy: 0.5843 - val_loss: 1.3973 - val_accuracy: 0.4500\n",
            "Epoch 18/100\n",
            "3/3 [==============================] - 1s 183ms/step - loss: 1.0797 - accuracy: 0.6067 - val_loss: 1.3562 - val_accuracy: 0.5000\n",
            "Epoch 19/100\n",
            "3/3 [==============================] - 1s 211ms/step - loss: 0.9866 - accuracy: 0.6629 - val_loss: 1.3313 - val_accuracy: 0.5500\n",
            "Epoch 20/100\n",
            "3/3 [==============================] - 1s 162ms/step - loss: 0.9595 - accuracy: 0.6629 - val_loss: 1.3277 - val_accuracy: 0.5000\n",
            "Epoch 21/100\n",
            "3/3 [==============================] - 1s 155ms/step - loss: 0.9131 - accuracy: 0.7079 - val_loss: 1.2949 - val_accuracy: 0.5500\n",
            "Epoch 22/100\n",
            "3/3 [==============================] - 1s 177ms/step - loss: 0.8534 - accuracy: 0.7640 - val_loss: 1.2557 - val_accuracy: 0.6000\n",
            "Epoch 23/100\n",
            "3/3 [==============================] - 1s 209ms/step - loss: 0.8236 - accuracy: 0.7640 - val_loss: 1.2415 - val_accuracy: 0.6000\n",
            "Epoch 24/100\n",
            "3/3 [==============================] - 1s 187ms/step - loss: 0.8906 - accuracy: 0.6966 - val_loss: 1.2616 - val_accuracy: 0.5000\n",
            "Epoch 25/100\n",
            "3/3 [==============================] - 1s 196ms/step - loss: 0.8211 - accuracy: 0.6629 - val_loss: 1.2864 - val_accuracy: 0.5000\n",
            "Epoch 26/100\n",
            "3/3 [==============================] - 1s 193ms/step - loss: 0.8048 - accuracy: 0.7303 - val_loss: 1.2416 - val_accuracy: 0.5500\n",
            "Epoch 27/100\n",
            "3/3 [==============================] - 1s 179ms/step - loss: 0.7190 - accuracy: 0.7978 - val_loss: 1.2119 - val_accuracy: 0.6000\n",
            "Epoch 28/100\n",
            "3/3 [==============================] - 1s 162ms/step - loss: 0.7191 - accuracy: 0.8202 - val_loss: 1.1992 - val_accuracy: 0.5500\n",
            "Epoch 29/100\n",
            "3/3 [==============================] - 1s 242ms/step - loss: 0.6557 - accuracy: 0.7640 - val_loss: 1.1980 - val_accuracy: 0.5500\n",
            "Epoch 30/100\n",
            "3/3 [==============================] - 1s 202ms/step - loss: 0.6117 - accuracy: 0.8427 - val_loss: 1.2045 - val_accuracy: 0.5500\n",
            "Epoch 31/100\n",
            "3/3 [==============================] - 1s 215ms/step - loss: 0.6309 - accuracy: 0.7978 - val_loss: 1.2127 - val_accuracy: 0.6000\n",
            "Epoch 32/100\n",
            "3/3 [==============================] - 1s 184ms/step - loss: 0.6034 - accuracy: 0.8652 - val_loss: 1.2021 - val_accuracy: 0.5500\n",
            "Epoch 33/100\n",
            "3/3 [==============================] - 1s 187ms/step - loss: 0.5737 - accuracy: 0.8202 - val_loss: 1.1968 - val_accuracy: 0.5500\n",
            "Epoch 34/100\n",
            "3/3 [==============================] - 1s 176ms/step - loss: 0.4991 - accuracy: 0.9101 - val_loss: 1.1519 - val_accuracy: 0.6000\n",
            "Epoch 35/100\n",
            "3/3 [==============================] - 1s 188ms/step - loss: 0.5123 - accuracy: 0.8539 - val_loss: 1.1387 - val_accuracy: 0.5500\n",
            "Epoch 36/100\n",
            "3/3 [==============================] - 1s 189ms/step - loss: 0.5038 - accuracy: 0.8764 - val_loss: 1.1591 - val_accuracy: 0.6000\n",
            "Epoch 37/100\n",
            "3/3 [==============================] - 1s 168ms/step - loss: 0.5267 - accuracy: 0.8652 - val_loss: 1.1747 - val_accuracy: 0.6500\n",
            "Epoch 38/100\n",
            "3/3 [==============================] - 1s 171ms/step - loss: 0.4240 - accuracy: 0.9101 - val_loss: 1.1580 - val_accuracy: 0.6500\n",
            "Epoch 39/100\n",
            "3/3 [==============================] - 1s 183ms/step - loss: 0.4331 - accuracy: 0.8876 - val_loss: 1.1354 - val_accuracy: 0.7000\n",
            "Epoch 40/100\n",
            "3/3 [==============================] - 1s 168ms/step - loss: 0.4355 - accuracy: 0.8989 - val_loss: 1.1266 - val_accuracy: 0.6500\n",
            "Epoch 41/100\n",
            "3/3 [==============================] - 1s 188ms/step - loss: 0.3775 - accuracy: 0.9101 - val_loss: 1.1318 - val_accuracy: 0.6000\n",
            "Epoch 42/100\n",
            "3/3 [==============================] - 1s 196ms/step - loss: 0.4192 - accuracy: 0.8652 - val_loss: 1.1536 - val_accuracy: 0.6500\n",
            "Epoch 43/100\n",
            "3/3 [==============================] - 1s 189ms/step - loss: 0.3289 - accuracy: 0.9438 - val_loss: 1.1766 - val_accuracy: 0.6500\n",
            "Epoch 44/100\n",
            "3/3 [==============================] - 1s 183ms/step - loss: 0.4044 - accuracy: 0.8989 - val_loss: 1.2542 - val_accuracy: 0.5500\n",
            "Epoch 45/100\n",
            "3/3 [==============================] - 1s 166ms/step - loss: 0.3325 - accuracy: 0.9213 - val_loss: 1.2060 - val_accuracy: 0.6000\n",
            "Epoch 46/100\n",
            "3/3 [==============================] - 1s 211ms/step - loss: 0.3208 - accuracy: 0.9101 - val_loss: 1.1957 - val_accuracy: 0.6000\n",
            "Epoch 47/100\n",
            "3/3 [==============================] - 1s 173ms/step - loss: 0.3054 - accuracy: 0.9213 - val_loss: 1.2006 - val_accuracy: 0.5500\n",
            "Epoch 48/100\n",
            "3/3 [==============================] - 1s 297ms/step - loss: 0.2920 - accuracy: 0.9438 - val_loss: 1.2473 - val_accuracy: 0.6000\n",
            "Epoch 49/100\n",
            "3/3 [==============================] - 1s 301ms/step - loss: 0.2554 - accuracy: 0.9551 - val_loss: 1.2609 - val_accuracy: 0.5500\n",
            "Epoch 50/100\n",
            "3/3 [==============================] - 1s 213ms/step - loss: 0.2507 - accuracy: 0.9551 - val_loss: 1.2703 - val_accuracy: 0.5500\n",
            "Epoch 51/100\n",
            "3/3 [==============================] - 1s 190ms/step - loss: 0.2247 - accuracy: 0.9775 - val_loss: 1.2023 - val_accuracy: 0.6500\n",
            "Epoch 52/100\n",
            "3/3 [==============================] - 1s 189ms/step - loss: 0.2375 - accuracy: 0.9775 - val_loss: 1.1844 - val_accuracy: 0.6000\n",
            "Epoch 53/100\n",
            "3/3 [==============================] - 1s 202ms/step - loss: 0.2498 - accuracy: 0.9326 - val_loss: 1.1836 - val_accuracy: 0.5500\n",
            "Epoch 54/100\n",
            "3/3 [==============================] - 1s 204ms/step - loss: 0.2047 - accuracy: 0.9775 - val_loss: 1.2294 - val_accuracy: 0.5500\n",
            "Epoch 55/100\n",
            "3/3 [==============================] - 1s 186ms/step - loss: 0.2318 - accuracy: 0.9663 - val_loss: 1.2219 - val_accuracy: 0.6500\n",
            "Epoch 56/100\n",
            "3/3 [==============================] - 1s 185ms/step - loss: 0.1937 - accuracy: 0.9775 - val_loss: 1.2641 - val_accuracy: 0.6000\n",
            "Epoch 57/100\n",
            "3/3 [==============================] - 1s 196ms/step - loss: 0.1719 - accuracy: 0.9663 - val_loss: 1.2778 - val_accuracy: 0.5500\n",
            "Epoch 58/100\n",
            "3/3 [==============================] - 1s 180ms/step - loss: 0.1483 - accuracy: 1.0000 - val_loss: 1.2758 - val_accuracy: 0.5500\n",
            "Epoch 59/100\n",
            "3/3 [==============================] - 1s 147ms/step - loss: 0.2034 - accuracy: 0.9663 - val_loss: 1.2542 - val_accuracy: 0.5500\n",
            "Epoch 60/100\n",
            "3/3 [==============================] - 1s 180ms/step - loss: 0.2017 - accuracy: 0.9551 - val_loss: 1.2503 - val_accuracy: 0.6000\n",
            "Epoch 61/100\n",
            "3/3 [==============================] - 1s 194ms/step - loss: 0.1404 - accuracy: 0.9775 - val_loss: 1.2627 - val_accuracy: 0.6500\n",
            "Epoch 62/100\n",
            "3/3 [==============================] - 1s 200ms/step - loss: 0.1383 - accuracy: 0.9888 - val_loss: 1.2974 - val_accuracy: 0.5500\n",
            "Epoch 63/100\n",
            "3/3 [==============================] - 1s 196ms/step - loss: 0.1672 - accuracy: 0.9888 - val_loss: 1.3515 - val_accuracy: 0.5500\n",
            "Epoch 64/100\n",
            "3/3 [==============================] - 1s 180ms/step - loss: 0.1334 - accuracy: 0.9775 - val_loss: 1.3592 - val_accuracy: 0.5500\n",
            "Epoch 65/100\n",
            "3/3 [==============================] - 1s 202ms/step - loss: 0.1447 - accuracy: 0.9888 - val_loss: 1.3605 - val_accuracy: 0.5500\n",
            "Epoch 66/100\n",
            "3/3 [==============================] - 1s 196ms/step - loss: 0.0979 - accuracy: 0.9888 - val_loss: 1.3578 - val_accuracy: 0.5500\n",
            "Epoch 67/100\n",
            "3/3 [==============================] - 1s 235ms/step - loss: 0.1402 - accuracy: 0.9551 - val_loss: 1.3981 - val_accuracy: 0.5500\n",
            "Epoch 68/100\n",
            "3/3 [==============================] - 1s 312ms/step - loss: 0.1073 - accuracy: 0.9888 - val_loss: 1.4453 - val_accuracy: 0.6000\n",
            "Epoch 69/100\n",
            "3/3 [==============================] - 1s 281ms/step - loss: 0.1301 - accuracy: 0.9663 - val_loss: 1.3955 - val_accuracy: 0.5500\n",
            "Epoch 70/100\n",
            "3/3 [==============================] - 1s 202ms/step - loss: 0.1121 - accuracy: 1.0000 - val_loss: 1.3979 - val_accuracy: 0.5500\n",
            "Epoch 71/100\n",
            "3/3 [==============================] - 1s 216ms/step - loss: 0.1312 - accuracy: 0.9888 - val_loss: 1.2449 - val_accuracy: 0.6000\n",
            "Epoch 72/100\n",
            "3/3 [==============================] - 1s 199ms/step - loss: 0.1121 - accuracy: 0.9888 - val_loss: 1.2355 - val_accuracy: 0.6500\n",
            "Epoch 73/100\n",
            "3/3 [==============================] - 1s 173ms/step - loss: 0.1182 - accuracy: 0.9775 - val_loss: 1.2180 - val_accuracy: 0.6500\n",
            "Epoch 74/100\n",
            "3/3 [==============================] - 1s 206ms/step - loss: 0.1096 - accuracy: 0.9888 - val_loss: 1.2413 - val_accuracy: 0.6500\n",
            "Epoch 75/100\n",
            "3/3 [==============================] - 1s 194ms/step - loss: 0.0693 - accuracy: 1.0000 - val_loss: 1.2580 - val_accuracy: 0.6500\n",
            "Epoch 76/100\n",
            "3/3 [==============================] - 1s 192ms/step - loss: 0.0961 - accuracy: 1.0000 - val_loss: 1.3183 - val_accuracy: 0.5500\n",
            "Epoch 77/100\n",
            "3/3 [==============================] - 1s 193ms/step - loss: 0.0588 - accuracy: 1.0000 - val_loss: 1.4310 - val_accuracy: 0.5500\n",
            "Epoch 78/100\n",
            "3/3 [==============================] - 1s 178ms/step - loss: 0.0829 - accuracy: 1.0000 - val_loss: 1.4968 - val_accuracy: 0.5500\n",
            "Epoch 79/100\n",
            "3/3 [==============================] - 1s 183ms/step - loss: 0.0651 - accuracy: 1.0000 - val_loss: 1.4671 - val_accuracy: 0.5500\n",
            "Epoch 80/100\n",
            "3/3 [==============================] - 1s 187ms/step - loss: 0.0846 - accuracy: 0.9888 - val_loss: 1.3766 - val_accuracy: 0.5500\n",
            "Epoch 81/100\n",
            "3/3 [==============================] - 1s 192ms/step - loss: 0.0753 - accuracy: 0.9888 - val_loss: 1.3401 - val_accuracy: 0.5500\n",
            "Epoch 82/100\n",
            "3/3 [==============================] - 1s 215ms/step - loss: 0.0736 - accuracy: 1.0000 - val_loss: 1.3806 - val_accuracy: 0.5500\n",
            "Epoch 83/100\n",
            "3/3 [==============================] - 1s 183ms/step - loss: 0.0801 - accuracy: 0.9888 - val_loss: 1.4242 - val_accuracy: 0.5500\n",
            "Epoch 84/100\n",
            "3/3 [==============================] - 1s 190ms/step - loss: 0.0564 - accuracy: 1.0000 - val_loss: 1.4619 - val_accuracy: 0.5500\n",
            "Epoch 85/100\n",
            "3/3 [==============================] - 1s 207ms/step - loss: 0.0730 - accuracy: 0.9775 - val_loss: 1.4450 - val_accuracy: 0.5500\n",
            "Epoch 86/100\n",
            "3/3 [==============================] - 1s 187ms/step - loss: 0.0521 - accuracy: 1.0000 - val_loss: 1.4467 - val_accuracy: 0.5500\n",
            "Epoch 87/100\n",
            "3/3 [==============================] - 1s 221ms/step - loss: 0.0724 - accuracy: 1.0000 - val_loss: 1.4612 - val_accuracy: 0.5500\n",
            "Epoch 88/100\n",
            "3/3 [==============================] - 1s 294ms/step - loss: 0.0700 - accuracy: 0.9888 - val_loss: 1.4948 - val_accuracy: 0.5500\n",
            "Epoch 89/100\n",
            "3/3 [==============================] - 1s 274ms/step - loss: 0.0639 - accuracy: 0.9888 - val_loss: 1.4902 - val_accuracy: 0.5500\n",
            "Epoch 90/100\n",
            "3/3 [==============================] - 1s 278ms/step - loss: 0.0537 - accuracy: 1.0000 - val_loss: 1.5054 - val_accuracy: 0.5500\n",
            "Epoch 91/100\n",
            "3/3 [==============================] - 1s 197ms/step - loss: 0.0411 - accuracy: 1.0000 - val_loss: 1.5306 - val_accuracy: 0.5500\n",
            "Epoch 92/100\n",
            "3/3 [==============================] - 1s 166ms/step - loss: 0.0637 - accuracy: 1.0000 - val_loss: 1.5457 - val_accuracy: 0.5500\n",
            "Epoch 93/100\n",
            "3/3 [==============================] - 1s 167ms/step - loss: 0.0520 - accuracy: 0.9888 - val_loss: 1.5555 - val_accuracy: 0.5500\n",
            "Epoch 94/100\n",
            "3/3 [==============================] - 1s 170ms/step - loss: 0.0460 - accuracy: 1.0000 - val_loss: 1.5821 - val_accuracy: 0.5500\n",
            "Epoch 95/100\n",
            "3/3 [==============================] - 1s 200ms/step - loss: 0.0384 - accuracy: 1.0000 - val_loss: 1.6430 - val_accuracy: 0.5500\n",
            "Epoch 96/100\n",
            "3/3 [==============================] - 1s 197ms/step - loss: 0.0592 - accuracy: 1.0000 - val_loss: 1.6166 - val_accuracy: 0.5500\n",
            "Epoch 97/100\n",
            "3/3 [==============================] - 1s 200ms/step - loss: 0.0475 - accuracy: 1.0000 - val_loss: 1.5539 - val_accuracy: 0.5500\n",
            "Epoch 98/100\n",
            "3/3 [==============================] - 1s 183ms/step - loss: 0.0264 - accuracy: 1.0000 - val_loss: 1.4882 - val_accuracy: 0.5500\n",
            "Epoch 99/100\n",
            "3/3 [==============================] - 1s 189ms/step - loss: 0.0341 - accuracy: 1.0000 - val_loss: 1.4572 - val_accuracy: 0.5500\n",
            "Epoch 100/100\n",
            "3/3 [==============================] - 1s 201ms/step - loss: 0.0360 - accuracy: 1.0000 - val_loss: 1.4550 - val_accuracy: 0.5500\n"
          ]
        }
      ]
    },
    {
      "cell_type": "code",
      "source": [
        "# Evaluasi model\n",
        "test_loss, test_acc = model.evaluate(validation_generator)\n",
        "print(f'Akurasi pada data validasi: {test_acc * 100:.2f}%')"
      ],
      "metadata": {
        "colab": {
          "base_uri": "https://localhost:8080/"
        },
        "id": "6K5zDnOzTOCg",
        "outputId": "f06ffe37-ee16-4568-83ca-723f377d9658"
      },
      "execution_count": 89,
      "outputs": [
        {
          "output_type": "stream",
          "name": "stdout",
          "text": [
            "1/1 [==============================] - 0s 114ms/step - loss: 1.4550 - accuracy: 0.5500\n",
            "Akurasi pada data validasi: 55.00%\n"
          ]
        }
      ]
    },
    {
      "cell_type": "code",
      "source": [
        "uploaded = files.upload()\n",
        "\n",
        "# Simpan nama gambar yang diunggah\n",
        "image_files = list(uploaded.keys())"
      ],
      "metadata": {
        "colab": {
          "base_uri": "https://localhost:8080/",
          "height": 73
        },
        "id": "4UWtuTg8TjE3",
        "outputId": "b52e4d3f-905b-4d5d-ff2f-d939e6a23401"
      },
      "execution_count": 109,
      "outputs": [
        {
          "output_type": "display_data",
          "data": {
            "text/plain": [
              "<IPython.core.display.HTML object>"
            ],
            "text/html": [
              "\n",
              "     <input type=\"file\" id=\"files-b1b62e28-a689-495b-9177-447f37364ddf\" name=\"files[]\" multiple disabled\n",
              "        style=\"border:none\" />\n",
              "     <output id=\"result-b1b62e28-a689-495b-9177-447f37364ddf\">\n",
              "      Upload widget is only available when the cell has been executed in the\n",
              "      current browser session. Please rerun this cell to enable.\n",
              "      </output>\n",
              "      <script>// Copyright 2017 Google LLC\n",
              "//\n",
              "// Licensed under the Apache License, Version 2.0 (the \"License\");\n",
              "// you may not use this file except in compliance with the License.\n",
              "// You may obtain a copy of the License at\n",
              "//\n",
              "//      http://www.apache.org/licenses/LICENSE-2.0\n",
              "//\n",
              "// Unless required by applicable law or agreed to in writing, software\n",
              "// distributed under the License is distributed on an \"AS IS\" BASIS,\n",
              "// WITHOUT WARRANTIES OR CONDITIONS OF ANY KIND, either express or implied.\n",
              "// See the License for the specific language governing permissions and\n",
              "// limitations under the License.\n",
              "\n",
              "/**\n",
              " * @fileoverview Helpers for google.colab Python module.\n",
              " */\n",
              "(function(scope) {\n",
              "function span(text, styleAttributes = {}) {\n",
              "  const element = document.createElement('span');\n",
              "  element.textContent = text;\n",
              "  for (const key of Object.keys(styleAttributes)) {\n",
              "    element.style[key] = styleAttributes[key];\n",
              "  }\n",
              "  return element;\n",
              "}\n",
              "\n",
              "// Max number of bytes which will be uploaded at a time.\n",
              "const MAX_PAYLOAD_SIZE = 100 * 1024;\n",
              "\n",
              "function _uploadFiles(inputId, outputId) {\n",
              "  const steps = uploadFilesStep(inputId, outputId);\n",
              "  const outputElement = document.getElementById(outputId);\n",
              "  // Cache steps on the outputElement to make it available for the next call\n",
              "  // to uploadFilesContinue from Python.\n",
              "  outputElement.steps = steps;\n",
              "\n",
              "  return _uploadFilesContinue(outputId);\n",
              "}\n",
              "\n",
              "// This is roughly an async generator (not supported in the browser yet),\n",
              "// where there are multiple asynchronous steps and the Python side is going\n",
              "// to poll for completion of each step.\n",
              "// This uses a Promise to block the python side on completion of each step,\n",
              "// then passes the result of the previous step as the input to the next step.\n",
              "function _uploadFilesContinue(outputId) {\n",
              "  const outputElement = document.getElementById(outputId);\n",
              "  const steps = outputElement.steps;\n",
              "\n",
              "  const next = steps.next(outputElement.lastPromiseValue);\n",
              "  return Promise.resolve(next.value.promise).then((value) => {\n",
              "    // Cache the last promise value to make it available to the next\n",
              "    // step of the generator.\n",
              "    outputElement.lastPromiseValue = value;\n",
              "    return next.value.response;\n",
              "  });\n",
              "}\n",
              "\n",
              "/**\n",
              " * Generator function which is called between each async step of the upload\n",
              " * process.\n",
              " * @param {string} inputId Element ID of the input file picker element.\n",
              " * @param {string} outputId Element ID of the output display.\n",
              " * @return {!Iterable<!Object>} Iterable of next steps.\n",
              " */\n",
              "function* uploadFilesStep(inputId, outputId) {\n",
              "  const inputElement = document.getElementById(inputId);\n",
              "  inputElement.disabled = false;\n",
              "\n",
              "  const outputElement = document.getElementById(outputId);\n",
              "  outputElement.innerHTML = '';\n",
              "\n",
              "  const pickedPromise = new Promise((resolve) => {\n",
              "    inputElement.addEventListener('change', (e) => {\n",
              "      resolve(e.target.files);\n",
              "    });\n",
              "  });\n",
              "\n",
              "  const cancel = document.createElement('button');\n",
              "  inputElement.parentElement.appendChild(cancel);\n",
              "  cancel.textContent = 'Cancel upload';\n",
              "  const cancelPromise = new Promise((resolve) => {\n",
              "    cancel.onclick = () => {\n",
              "      resolve(null);\n",
              "    };\n",
              "  });\n",
              "\n",
              "  // Wait for the user to pick the files.\n",
              "  const files = yield {\n",
              "    promise: Promise.race([pickedPromise, cancelPromise]),\n",
              "    response: {\n",
              "      action: 'starting',\n",
              "    }\n",
              "  };\n",
              "\n",
              "  cancel.remove();\n",
              "\n",
              "  // Disable the input element since further picks are not allowed.\n",
              "  inputElement.disabled = true;\n",
              "\n",
              "  if (!files) {\n",
              "    return {\n",
              "      response: {\n",
              "        action: 'complete',\n",
              "      }\n",
              "    };\n",
              "  }\n",
              "\n",
              "  for (const file of files) {\n",
              "    const li = document.createElement('li');\n",
              "    li.append(span(file.name, {fontWeight: 'bold'}));\n",
              "    li.append(span(\n",
              "        `(${file.type || 'n/a'}) - ${file.size} bytes, ` +\n",
              "        `last modified: ${\n",
              "            file.lastModifiedDate ? file.lastModifiedDate.toLocaleDateString() :\n",
              "                                    'n/a'} - `));\n",
              "    const percent = span('0% done');\n",
              "    li.appendChild(percent);\n",
              "\n",
              "    outputElement.appendChild(li);\n",
              "\n",
              "    const fileDataPromise = new Promise((resolve) => {\n",
              "      const reader = new FileReader();\n",
              "      reader.onload = (e) => {\n",
              "        resolve(e.target.result);\n",
              "      };\n",
              "      reader.readAsArrayBuffer(file);\n",
              "    });\n",
              "    // Wait for the data to be ready.\n",
              "    let fileData = yield {\n",
              "      promise: fileDataPromise,\n",
              "      response: {\n",
              "        action: 'continue',\n",
              "      }\n",
              "    };\n",
              "\n",
              "    // Use a chunked sending to avoid message size limits. See b/62115660.\n",
              "    let position = 0;\n",
              "    do {\n",
              "      const length = Math.min(fileData.byteLength - position, MAX_PAYLOAD_SIZE);\n",
              "      const chunk = new Uint8Array(fileData, position, length);\n",
              "      position += length;\n",
              "\n",
              "      const base64 = btoa(String.fromCharCode.apply(null, chunk));\n",
              "      yield {\n",
              "        response: {\n",
              "          action: 'append',\n",
              "          file: file.name,\n",
              "          data: base64,\n",
              "        },\n",
              "      };\n",
              "\n",
              "      let percentDone = fileData.byteLength === 0 ?\n",
              "          100 :\n",
              "          Math.round((position / fileData.byteLength) * 100);\n",
              "      percent.textContent = `${percentDone}% done`;\n",
              "\n",
              "    } while (position < fileData.byteLength);\n",
              "  }\n",
              "\n",
              "  // All done.\n",
              "  yield {\n",
              "    response: {\n",
              "      action: 'complete',\n",
              "    }\n",
              "  };\n",
              "}\n",
              "\n",
              "scope.google = scope.google || {};\n",
              "scope.google.colab = scope.google.colab || {};\n",
              "scope.google.colab._files = {\n",
              "  _uploadFiles,\n",
              "  _uploadFilesContinue,\n",
              "};\n",
              "})(self);\n",
              "</script> "
            ]
          },
          "metadata": {}
        },
        {
          "output_type": "stream",
          "name": "stdout",
          "text": [
            "Saving jerawat white.jpg to jerawat white (2).jpg\n"
          ]
        }
      ]
    },
    {
      "cell_type": "code",
      "source": [
        "# Fungsi untuk memprediksi gambar\n",
        "def predict_image(model, image_path, label_map):\n",
        "    # Membaca gambar dan mengubahnya menjadi array numpy\n",
        "    img = Image.open(image_path).convert('RGB')  # Convert ke RGB\n",
        "    img = img.resize((64, 64))  # Resize gambar ke ukuran yang diharapkan oleh model\n",
        "    img_array = np.array(img) / 255.0  # Normalisasi nilai pixel\n",
        "\n",
        "    # Menambah dimensi batch karena model membutuhkan batch input\n",
        "    img_array = np.expand_dims(img_array, axis=0)\n",
        "\n",
        "    # Melakukan prediksi menggunakan model\n",
        "    predictions = model.predict(img_array)\n",
        "\n",
        "    # Mendapatkan kelas prediksi\n",
        "    predicted_class = np.argmax(predictions[0])\n",
        "\n",
        "    # Mendapatkan label dari kelas prediksi\n",
        "    predicted_label = None\n",
        "    for label, class_id in label_map.items():\n",
        "        if class_id == predicted_class:\n",
        "            predicted_label = label\n",
        "            break\n",
        "\n",
        "    return predicted_label"
      ],
      "metadata": {
        "id": "vHpPgEQfTkrQ"
      },
      "execution_count": 110,
      "outputs": []
    },
    {
      "cell_type": "code",
      "source": [
        "for image_file in image_files:\n",
        "    predicted_label = predict_image(model, image_file, label_dict)\n",
        "    print(f'Gambar \"{image_file}\": Prediksi - {predicted_label}')"
      ],
      "metadata": {
        "colab": {
          "base_uri": "https://localhost:8080/"
        },
        "id": "g51dtnDdTmgW",
        "outputId": "244a47b4-8a23-4136-bf33-7848008ad429"
      },
      "execution_count": 111,
      "outputs": [
        {
          "output_type": "stream",
          "name": "stdout",
          "text": [
            "1/1 [==============================] - 0s 18ms/step\n",
            "Gambar \"jerawat white (2).jpg\": Prediksi - Whitehead\n"
          ]
        }
      ]
    },
    {
      "cell_type": "code",
      "source": [
        "# Tampilkan sampel dan prediksi\n",
        "plt.figure(figsize=(10, 10))\n",
        "for i in range(len(image_files)):\n",
        "    image_file = image_files[i]\n",
        "    predicted_label = predict_image(model, image_file, label_dict)\n",
        "    img = Image.open(image_file).convert('RGB')\n",
        "    plt.subplot(5, 2, i+1)\n",
        "    plt.imshow(img)\n",
        "    plt.title(f'Prediksi: {predicted_label}')\n",
        "    plt.axis('off')\n",
        "plt.tight_layout()\n",
        "plt.show()"
      ],
      "metadata": {
        "colab": {
          "base_uri": "https://localhost:8080/",
          "height": 253
        },
        "id": "xgd3Jh8RTrP2",
        "outputId": "f0b2870c-727d-404e-81af-e88401bf216f"
      },
      "execution_count": 113,
      "outputs": [
        {
          "output_type": "stream",
          "name": "stdout",
          "text": [
            "1/1 [==============================] - 0s 19ms/step\n"
          ]
        },
        {
          "output_type": "display_data",
          "data": {
            "text/plain": [
              "<Figure size 1000x1000 with 1 Axes>"
            ],
            "image/png": "[encoded data removed]"
          },
          "metadata": {}
        }
      ]
    },
    {
      "cell_type": "code",
      "source": [
        "model.save(\"jerawat_model.h5\")"
      ],
      "metadata": {
        "colab": {
          "base_uri": "https://localhost:8080/"
        },
        "id": "kmRquR0neJzO",
        "outputId": "fee4e247-0fce-44a7-93d4-db71cbd17362"
      },
      "execution_count": 114,
      "outputs": [
        {
          "output_type": "stream",
          "name": "stderr",
          "text": [
            "/usr/local/lib/python3.10/dist-packages/keras/src/engine/training.py:3103: UserWarning: You are saving your model as an HDF5 file via `model.save()`. This file format is considered legacy. We recommend using instead the native Keras format, e.g. `model.save('my_model.keras')`.\n",
            "  saving_api.save_model(\n"
          ]
        }
      ]
    },
    {
      "cell_type": "code",
      "source": [
        "files.download(\"jerawat_model.h5\")"
      ],
      "metadata": {
        "colab": {
          "base_uri": "https://localhost:8080/",
          "height": 17
        },
        "id": "9gH6eTf8eeGl",
        "outputId": "4277c724-5ca4-4ca4-b22a-bc96e6338d24"
      },
      "execution_count": 115,
      "outputs": [
        {
          "output_type": "display_data",
          "data": {
            "text/plain": [
              "<IPython.core.display.Javascript object>"
            ],
            "application/javascript": [
              "\n",
              "    async function download(id, filename, size) {\n",
              "      if (!google.colab.kernel.accessAllowed) {\n",
              "        return;\n",
              "      }\n",
              "      const div = document.createElement('div');\n",
              "      const label = document.createElement('label');\n",
              "      label.textContent = `Downloading \"${filename}\": `;\n",
              "      div.appendChild(label);\n",
              "      const progress = document.createElement('progress');\n",
              "      progress.max = size;\n",
              "      div.appendChild(progress);\n",
              "      document.body.appendChild(div);\n",
              "\n",
              "      const buffers = [];\n",
              "      let downloaded = 0;\n",
              "\n",
              "      const channel = await google.colab.kernel.comms.open(id);\n",
              "      // Send a message to notify the kernel that we're ready.\n",
              "      channel.send({})\n",
              "\n",
              "      for await (const message of channel.messages) {\n",
              "        // Send a message to notify the kernel that we're ready.\n",
              "        channel.send({})\n",
              "        if (message.buffers) {\n",
              "          for (const buffer of message.buffers) {\n",
              "            buffers.push(buffer);\n",
              "            downloaded += buffer.byteLength;\n",
              "            progress.value = downloaded;\n",
              "          }\n",
              "        }\n",
              "      }\n",
              "      const blob = new Blob(buffers, {type: 'application/binary'});\n",
              "      const a = document.createElement('a');\n",
              "      a.href = window.URL.createObjectURL(blob);\n",
              "      a.download = filename;\n",
              "      div.appendChild(a);\n",
              "      a.click();\n",
              "      div.remove();\n",
              "    }\n",
              "  "
            ]
          },
          "metadata": {}
        },
        {
          "output_type": "display_data",
          "data": {
            "text/plain": [
              "<IPython.core.display.Javascript object>"
            ],
            "application/javascript": [
              "download(\"download_9a60fc12-a84b-458f-9d8a-b3cda72a828b\", \"jerawat_model.h5\", 60924336)"
            ]
          },
          "metadata": {}
        }
      ]
    }
  ]
}